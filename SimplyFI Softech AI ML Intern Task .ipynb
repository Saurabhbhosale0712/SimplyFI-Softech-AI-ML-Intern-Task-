{
 "cells": [
  {
   "cell_type": "code",
   "execution_count": 11,
   "id": "3e133a32",
   "metadata": {},
   "outputs": [],
   "source": [
    "import pandas as pn \n",
    "import numpy as np "
   ]
  },
  {
   "cell_type": "markdown",
   "id": "532d2c0b",
   "metadata": {},
   "source": [
    " Question 1: Converting Integer to Indian Currency Notation"
   ]
  },
  {
   "cell_type": "code",
   "execution_count": 12,
   "id": "1b0b5e95",
   "metadata": {},
   "outputs": [
    {
     "name": "stdout",
     "output_type": "stream",
     "text": [
      "5,04,678\n"
     ]
    }
   ],
   "source": [
    "def convert_to_indian_currency(n):\n",
    "    # Convert integer to string to manipulate the characters\n",
    "    s = str(n)\n",
    "    # Get the last 3 digits for the first part\n",
    "    last_three = s[-3:]\n",
    "    # Remove the last 3 digits from the original number\n",
    "    remaining = s[:-3]\n",
    "    \n",
    "    # Use list to store parts in reverse order\n",
    "    indian_currency = []\n",
    "    \n",
    "    # Add commas after every 2 digits in the remaining part\n",
    "    while len(remaining) > 2:\n",
    "        indian_currency.append(remaining[-2:])\n",
    "        remaining = remaining[:-2]\n",
    "    \n",
    "    # Append whatever is left in remaining to the list\n",
    "    if remaining:\n",
    "        indian_currency.append(remaining)\n",
    "    \n",
    "    # Reverse and join the list to get the correctly formatted number\n",
    "    result = ','.join(reversed(indian_currency)) + ',' + last_three\n",
    "    return result\n",
    "\n",
    "# Example usage\n",
    "print(convert_to_indian_currency(504678))  # Output: 5,04,678\n"
   ]
  },
  {
   "cell_type": "code",
   "execution_count": null,
   "id": "9913116a",
   "metadata": {},
   "outputs": [],
   "source": []
  },
  {
   "cell_type": "markdown",
   "id": "7212bac2",
   "metadata": {},
   "source": [
    "Question 2: Gi-Hun and Ali Visibility Problem"
   ]
  },
  {
   "cell_type": "code",
   "execution_count": 14,
   "id": "9c1632b7",
   "metadata": {},
   "outputs": [],
   "source": [
    "def count_players_to_shoot(test_cases):\n",
    "    results = []\n",
    "    \n",
    "    for t in test_cases:\n",
    "        N, K, heights = t['N'], t['K'], t['heights']\n",
    "        count = 0\n",
    "        # Iterate through the list of players' heights\n",
    "        for height in heights:\n",
    "            if height > K:\n",
    "                count += 1\n",
    "    # Store the result for this test case\n",
    "        results.append(count)\n",
    "    \n",
    "    return results\n",
    "       "
   ]
  },
  {
   "cell_type": "code",
   "execution_count": 15,
   "id": "9625cc2f",
   "metadata": {},
   "outputs": [
    {
     "name": "stdout",
     "output_type": "stream",
     "text": [
      "3 \n",
      "4 10 \n",
      "2 13 4 16 \n",
      "5 8 \n",
      "9 3 8 8 4 \n",
      "4 6 \n",
      "1 2 3 4\n",
      "2\n",
      "1\n",
      "0\n"
     ]
    }
   ],
   "source": [
    "# Example input processing\n",
    "def process_input():\n",
    "    T = int(input())\n",
    "    test_cases = []\n",
    "    \n",
    "    for _ in range(T):\n",
    "        N, K = map(int, input().split())\n",
    "        heights = list(map(int, input().split()))\n",
    "        test_cases.append({'N': N, 'K': K, 'heights': heights})\n",
    "    \n",
    "    # Get the results\n",
    "    results = count_players_to_shoot(test_cases)\n",
    "    \n",
    "    # Print the results\n",
    "    for result in results:\n",
    "        print(result)\n",
    "\n",
    "# Example usage (input is based on the problem description)\n",
    "process_input()\n"
   ]
  },
  {
   "cell_type": "code",
   "execution_count": null,
   "id": "bca9da44",
   "metadata": {},
   "outputs": [],
   "source": []
  }
 ],
 "metadata": {
  "kernelspec": {
   "display_name": "Python 3 (ipykernel)",
   "language": "python",
   "name": "python3"
  },
  "language_info": {
   "codemirror_mode": {
    "name": "ipython",
    "version": 3
   },
   "file_extension": ".py",
   "mimetype": "text/x-python",
   "name": "python",
   "nbconvert_exporter": "python",
   "pygments_lexer": "ipython3",
   "version": "3.9.7"
  }
 },
 "nbformat": 4,
 "nbformat_minor": 5
}
